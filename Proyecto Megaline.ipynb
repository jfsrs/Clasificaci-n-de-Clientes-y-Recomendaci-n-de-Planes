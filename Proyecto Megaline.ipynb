{
 "cells": [
  {
   "cell_type": "markdown",
   "metadata": {},
   "source": [
    "# Introducción\n",
    "\n",
    "Megaline busca modernizar su oferta migrando a clientes de planes heredados a los nuevos planes Smart y Ultra. Con datos de suscriptores que ya hicieron el cambio, el objetivo es desarrollar un modelo de clasificación que recomiende el plan más adecuado para cada cliente, alcanzando al menos un 75% de exactitud."
   ]
  },
  {
   "cell_type": "markdown",
   "metadata": {},
   "source": [
    "## Abre y examina el archivo de datos. Dirección al archivo:/datasets/users_behavior.csv"
   ]
  },
  {
   "cell_type": "code",
   "execution_count": 12,
   "metadata": {
    "trusted": true
   },
   "outputs": [],
   "source": [
    "import pandas as pd\n",
    "from sklearn.model_selection import train_test_split\n",
    "from sklearn.ensemble import RandomForestClassifier\n",
    "from sklearn.linear_model import LogisticRegression\n",
    "from sklearn.tree import DecisionTreeClassifier\n",
    "from sklearn.metrics import accuracy_score\n",
    "from sklearn.tree import DecisionTreeRegressor\n",
    "from sklearn.metrics import mean_squared_error\n",
    "from sklearn.ensemble import RandomForestRegressor\n",
    "\n",
    "\n"
   ]
  },
  {
   "cell_type": "code",
   "execution_count": 13,
   "metadata": {},
   "outputs": [
    {
     "name": "stdout",
     "output_type": "stream",
     "text": [
      "(3214, 5)\n",
      "   calls  minutes  messages   mb_used  is_ultra\n",
      "0   40.0   311.90      83.0  19915.42         0\n",
      "1   85.0   516.75      56.0  22696.96         0\n",
      "2   77.0   467.66      86.0  21060.45         0\n",
      "3  106.0   745.53      81.0   8437.39         1\n",
      "4   66.0   418.74       1.0  14502.75         0\n",
      "5   58.0   344.56      21.0  15823.37         0\n",
      "6   57.0   431.64      20.0   3738.90         1\n",
      "7   15.0   132.40       6.0  21911.60         0\n",
      "8    7.0    43.39       3.0   2538.67         1\n",
      "9   90.0   665.41      38.0  17358.61         0\n"
     ]
    }
   ],
   "source": [
    "df = pd.read_csv('users_behavior.csv')\n",
    "\n",
    "print(df.shape)\n",
    "print(df.head(10))"
   ]
  },
  {
   "cell_type": "markdown",
   "metadata": {},
   "source": [
    "## Segmentación de los datos fuente en un conjunto de entrenamiento, uno de validación y uno de prueba."
   ]
  },
  {
   "cell_type": "code",
   "execution_count": 14,
   "metadata": {
    "trusted": true
   },
   "outputs": [
    {
     "name": "stdout",
     "output_type": "stream",
     "text": [
      "(2410, 4)\n",
      "(2410,)\n",
      "(804, 4)\n",
      "(804,)\n"
     ]
    }
   ],
   "source": [
    "features = df.drop(['is_ultra'], axis=1)\n",
    "target = df['is_ultra']\n",
    "\n",
    "df_train, df_valid = train_test_split(df, test_size=0.25, random_state=54321) # segmenta el 25% de los datos para hacer el conjunto de validación\n",
    "features_train = df_train.drop(['is_ultra'], axis=1)\n",
    "target_train = df_train['is_ultra']\n",
    "features_valid = df_valid.drop(['is_ultra'], axis=1)\n",
    "target_valid = df_valid['is_ultra']\n",
    "\n",
    "test_df = pd.read_csv('users_behavior.csv')\n",
    "test_features = test_df.drop(['is_ultra'], axis=1)\n",
    "test_target = test_df['is_ultra']\n",
    "\n",
    "print(features_train.shape)\n",
    "print(target_train.shape)\n",
    "print(features_valid.shape)\n",
    "print(target_valid.shape)"
   ]
  },
  {
   "cell_type": "markdown",
   "metadata": {},
   "source": [
    "## Investigación de la calidad de diferentes modelos cambiando los hiperparámetros. Descripción breve de los hallazgos del estudio"
   ]
  },
  {
   "cell_type": "markdown",
   "metadata": {},
   "source": [
    "### Random Forest (comprobando la calidad del modelo utilizando el conjunto de prueba)\n",
    "\n",
    "- Este código recorre diferentes valores del parámetro n_estimators (número de árboles) del RandomForestClassifier, entrenando un modelo para cada valor de 1 a 20 y evaluándolo en el conjunto de validación. Se guarda el número de árboles que genera la mayor exactitud (accuracy) en el conjunto de validación.\n",
    "\n",
    "- El resultado indica que, al evaluar diferentes modelos RandomForest con entre 1 y 19 árboles, el modelo que alcanzó la mayor exactitud en el conjunto de validación utiliza 16 árboles (n_estimators = 16) y logra una exactitud de aproximadamente 80.22%. Esto significa que este modelo clasifica correctamente alrededor del 80% de las instancias en el conjunto de validación.\n",
    "\n",
    "- En resumen, el RandomForest con 16 estimadores es el que ofrece el mejor rendimiento en validación en este experimento, y su exactitud del 80.22% es una medida de cuán efectivo es el modelo para predecir correctamente la variable objetivo en datos nuevos."
   ]
  },
  {
   "cell_type": "code",
   "execution_count": 15,
   "metadata": {
    "trusted": true
   },
   "outputs": [
    {
     "name": "stdout",
     "output_type": "stream",
     "text": [
      "La exactitud del mejor modelo en el conjunto de validación (n_estimators = 16): 0.8022388059701493\n"
     ]
    }
   ],
   "source": [
    "best_score = 0\n",
    "best_est = 0\n",
    "for est in range(1, 21): \n",
    "    model = RandomForestClassifier(random_state=54321, n_estimators=est)\n",
    "    model.fit(features_train, target_train) \n",
    "    score = model.score(features_valid, target_valid)\n",
    "    if score > best_score:\n",
    "        best_score = score \n",
    "        best_est = est \n",
    "\n",
    "print(\"La exactitud del mejor modelo en el conjunto de validación (n_estimators = {}): {}\".format(best_est, best_score))"
   ]
  },
  {
   "cell_type": "markdown",
   "metadata": {},
   "source": [
    "### Regresión logística\n",
    "\n",
    "- Precisión en entrenamiento (71.8%): El modelo clasifica correctamente aproximadamente el 72% de los casos en el conjunto de entrenamiento.\n",
    "\n",
    "- Precisión en validación (69.4%): En datos nuevos (validación), el modelo logra una precisión del 69.4%, lo que sugiere que su capacidad de generalización es razonable, ya que la diferencia con el entrenamiento es de solo unos 2 puntos porcentuales.\n",
    "\n",
    "- La diferencia pequeña entre el entrenamiento y la validación sugiere que no hay un sobreajuste muy pronunciado.\n",
    "\n",
    "- Una precisión cercana al 70% indica que el modelo clasifica correctamente aproximadamente 7 de cada 10 instancias, lo cual es aceptable, pero puede haber margen de mejora."
   ]
  },
  {
   "cell_type": "code",
   "execution_count": 16,
   "metadata": {
    "trusted": true
   },
   "outputs": [
    {
     "name": "stdout",
     "output_type": "stream",
     "text": [
      "Accuracy del modelo de regresión logística en el conjunto de entrenamiento: 0.7178423236514523\n",
      "Accuracy del modelo de regresión logística en el conjunto de validación: 0.6940298507462687\n"
     ]
    }
   ],
   "source": [
    "model = LogisticRegression(random_state=54321, solver='liblinear')\n",
    "model.fit(features_train, target_train)\n",
    "score_train = model.score(features_train, target_train)\n",
    "score_valid = model.score(features_valid, target_valid)\n",
    "\n",
    "print(\"Accuracy del modelo de regresión logística en el conjunto de entrenamiento:\", score_train)\n",
    "print(\"Accuracy del modelo de regresión logística en el conjunto de validación:\", score_valid)"
   ]
  },
  {
   "cell_type": "markdown",
   "metadata": {},
   "source": [
    "### Arboles de Desición\n",
    "\n",
    "- Con max_depth = 1, el árbol obtiene un 75.8% en entrenamiento, y a medida que se incrementa la profundidad hasta 10, la exactitud de entrenamiento sube a 87.1%. Esto indica que modelos más complejos se ajustan mejor a los datos de entrenamiento.\n",
    "\n",
    "- La exactitud en el conjunto de prueba empieza en 73.6% para max_depth = 1 y aumenta gradualmente hasta alcanzar alrededor de 79.5% con max_depth = 8. Sin embargo, a partir de ese punto (max_depth = 9 y 10), la exactitud de prueba se mantiene casi igual o incluso disminuye levemente (79.2% y 79.1%, respectivamente).\n",
    "\n",
    "- En conclusión aunque aumentar la profundidad mejora el ajuste sobre los datos de entrenamiento, la mejora en el conjunto de prueba se estabiliza alrededor de max_depth = 8, lo que sugiere que ese valor podría ser óptimo. Más allá de esa profundidad, el incremento en la complejidad no se traduce en un mejor desempeño en datos no vistos, e incluso puede perjudicarlo por el sobreajuste."
   ]
  },
  {
   "cell_type": "code",
   "execution_count": 17,
   "metadata": {
    "trusted": true
   },
   "outputs": [
    {
     "name": "stdout",
     "output_type": "stream",
     "text": [
      "Exactitud de max_depth igual a 1\n",
      "Conjunto de entrenamiento: 0.7580912863070539\n",
      "Conjunto de prueba: 0.736318407960199\n",
      "\n",
      "Exactitud de max_depth igual a 2\n",
      "Conjunto de entrenamiento: 0.7871369294605809\n",
      "Conjunto de prueba: 0.7699004975124378\n",
      "\n",
      "Exactitud de max_depth igual a 3\n",
      "Conjunto de entrenamiento: 0.8024896265560166\n",
      "Conjunto de prueba: 0.7810945273631841\n",
      "\n",
      "Exactitud de max_depth igual a 4\n",
      "Conjunto de entrenamiento: 0.8116182572614108\n",
      "Conjunto de prueba: 0.7810945273631841\n",
      "\n",
      "Exactitud de max_depth igual a 5\n",
      "Conjunto de entrenamiento: 0.816597510373444\n",
      "Conjunto de prueba: 0.7810945273631841\n",
      "\n",
      "Exactitud de max_depth igual a 6\n",
      "Conjunto de entrenamiento: 0.8244813278008298\n",
      "Conjunto de prueba: 0.7835820895522388\n",
      "\n",
      "Exactitud de max_depth igual a 7\n",
      "Conjunto de entrenamiento: 0.8369294605809129\n",
      "Conjunto de prueba: 0.7873134328358209\n",
      "\n",
      "Exactitud de max_depth igual a 8\n",
      "Conjunto de entrenamiento: 0.8526970954356846\n",
      "Conjunto de prueba: 0.7947761194029851\n",
      "\n",
      "Exactitud de max_depth igual a 9\n",
      "Conjunto de entrenamiento: 0.8593360995850622\n",
      "Conjunto de prueba: 0.7922885572139303\n",
      "\n",
      "Exactitud de max_depth igual a 10\n",
      "Conjunto de entrenamiento: 0.870539419087137\n",
      "Conjunto de prueba: 0.7910447761194029\n",
      "\n"
     ]
    }
   ],
   "source": [
    "features_train, test_features, target_train, test_target = train_test_split(features, target, test_size=0.25, random_state=54321)\n",
    "for depth in range(1, 11):\n",
    "    model = DecisionTreeClassifier(random_state=54321, max_depth=depth)\n",
    "    model.fit(features_train, target_train)\n",
    "    train_predictions = model.predict(features_train)\n",
    "    test_predictions = model.predict(test_features)\n",
    "    train_accuracy = accuracy_score(target_train, train_predictions)\n",
    "    test_accuracy = accuracy_score(test_target, test_predictions)\n",
    "    \n",
    "\n",
    "    print(\"Exactitud de max_depth igual a\", depth)\n",
    "    print(\"Conjunto de entrenamiento:\", train_accuracy)\n",
    "    print(\"Conjunto de prueba:\", test_accuracy)\n",
    "    print()"
   ]
  },
  {
   "cell_type": "markdown",
   "metadata": {},
   "source": [
    "En los siguientes codigos realizaremos una búsqueda de hiperparámetro para seleccionar el mejor modelo de regresión basado en un árbol de decisión y un random forest, variando el parámetro max_depth (profundidad máxima) entre 1 y 10. La idea es entrenar varios modelos con distintas profundidades y evaluar cuál tiene el menor error en el conjunto de validación, utilizando el error cuadrático medio (EMC)."
   ]
  },
  {
   "cell_type": "code",
   "execution_count": 18,
   "metadata": {
    "trusted": true
   },
   "outputs": [
    {
     "name": "stdout",
     "output_type": "stream",
     "text": [
      "RECM del mejor modelo en el conjunto de validación (max_depth = 6): 0.3999335684302242\n"
     ]
    }
   ],
   "source": [
    "best_model = None\n",
    "best_result = 100000\n",
    "best_depth = 0\n",
    "for depth in range(1, 11): \n",
    "    model = DecisionTreeRegressor(max_depth=depth, random_state=12345)\n",
    "    model.fit(features_train, target_train) \n",
    "    predictions_valid = model.predict(features_valid) \n",
    "    result = mean_squared_error(target_valid, predictions_valid)**0.5 \n",
    "    if result < best_result:\n",
    "        best_model = model\n",
    "        best_result = result\n",
    "        best_depth = depth\n",
    "\n",
    "print(f\"RECM del mejor modelo en el conjunto de validación (max_depth = {best_depth}): {best_result}\")"
   ]
  },
  {
   "cell_type": "markdown",
   "metadata": {},
   "source": [
    "El resultado indica que, al ajustar el hiperparámetro de profundidad máxima, el mejor modelo en términos de RECM (Raíz del Error Cuadrático Medio) en el conjunto de validación es un árbol de decisión con una profundidad máxima de 6. Con este modelo, la RECM obtenida fue aproximadamente 0.39993, lo que significa que, en promedio, la diferencia entre los valores predichos y los valores reales en el conjunto de validación es de cerca de 0.4 unidades."
   ]
  },
  {
   "cell_type": "code",
   "execution_count": 19,
   "metadata": {
    "trusted": true
   },
   "outputs": [
    {
     "name": "stdout",
     "output_type": "stream",
     "text": [
      "RECM del mejor modelo en el conjunto de validación: 0.3838275787804249 n_estimators: 20 best_depth: 9\n"
     ]
    }
   ],
   "source": [
    "best_error = 100 \n",
    "best_est = 0\n",
    "best_depth = 0\n",
    "for depth in range (1, 11):\n",
    "    model = RandomForestRegressor(random_state=54321, n_estimators=est, max_depth=depth)\n",
    "    model.fit(features_train, target_train) \n",
    "    predictions_valid = model.predict(features_valid) \n",
    "    error = mean_squared_error(target_valid, predictions_valid)**0.5\n",
    "    if error < best_error: \n",
    "        best_error = error\n",
    "        best_est = est\n",
    "        best_depth = depth\n",
    "\n",
    "print(\"RECM del mejor modelo en el conjunto de validación:\", best_error, \"n_estimators:\", best_est, \"best_depth:\", best_depth)"
   ]
  },
  {
   "cell_type": "markdown",
   "metadata": {},
   "source": [
    "El resultado indica que, al ajustar un modelo RandomForestRegressor y explorar combinaciones de hiperparámetros, el mejor desempeño en el conjunto de validación se alcanzó con un modelo que utiliza:\n",
    "\n",
    "20 estimadores (n_estimators = 20): Es decir, el modelo utiliza 20 árboles en el ensamble.\n",
    "Máxima profundidad (max_depth) de 9: Cada árbol se limita a una profundidad máxima de 9 niveles.\n",
    "Con esta configuración, el modelo obtuvo una RECM (raíz del error cuadrático medio) de aproximadamente 0.3838 en el conjunto de validación. Esto significa que, en promedio, las predicciones del modelo se desvían de los valores reales en alrededor de 0.38 unidades."
   ]
  },
  {
   "cell_type": "markdown",
   "metadata": {},
   "source": [
    "## CONCLUSIÓN \n",
    "\n",
    "- Un RECM menor indica mejores predicciones en promedio. En este caso, el Random Forest tiene un error ligeramente inferior, lo que sugiere que sus predicciones se desvían menos de los valores reales.\n",
    "\n",
    "- En resumen, aunque la diferencia en RECM es modesta, el modelo RandomForestRegressor es superior, ya que ofrece un menor error de predicción y, en general, se comporta mejor en términos de estabilidad y capacidad de generalización."
   ]
  },
  {
   "cell_type": "code",
   "execution_count": null,
   "metadata": {
    "trusted": true
   },
   "outputs": [],
   "source": []
  }
 ],
 "metadata": {
  "ExecuteTimeLog": [
   {
    "duration": 338,
    "start_time": "2025-02-23T16:36:39.570Z"
   },
   {
    "duration": 10,
    "start_time": "2025-02-23T16:37:23.089Z"
   },
   {
    "duration": 4,
    "start_time": "2025-02-23T16:46:42.255Z"
   },
   {
    "duration": 2,
    "start_time": "2025-02-23T16:47:01.967Z"
   },
   {
    "duration": 9,
    "start_time": "2025-02-23T22:29:27.532Z"
   },
   {
    "duration": 4,
    "start_time": "2025-02-23T22:29:36.501Z"
   },
   {
    "duration": 853,
    "start_time": "2025-02-23T22:34:37.469Z"
   },
   {
    "duration": 5,
    "start_time": "2025-02-23T22:34:42.244Z"
   },
   {
    "duration": 4,
    "start_time": "2025-02-23T22:34:45.745Z"
   },
   {
    "duration": 5,
    "start_time": "2025-02-23T22:34:56.118Z"
   },
   {
    "duration": 4,
    "start_time": "2025-02-23T22:35:26.439Z"
   },
   {
    "duration": 4,
    "start_time": "2025-02-23T22:36:32.467Z"
   },
   {
    "duration": 11,
    "start_time": "2025-02-23T22:57:55.970Z"
   },
   {
    "duration": 6,
    "start_time": "2025-02-23T22:59:34.754Z"
   },
   {
    "duration": 7,
    "start_time": "2025-02-23T22:59:37.264Z"
   },
   {
    "duration": 214,
    "start_time": "2025-02-23T23:00:18.057Z"
   },
   {
    "duration": 11,
    "start_time": "2025-02-23T23:00:41.474Z"
   },
   {
    "duration": 251,
    "start_time": "2025-02-23T23:00:43.867Z"
   },
   {
    "duration": 6,
    "start_time": "2025-02-23T23:01:14.153Z"
   },
   {
    "duration": 123,
    "start_time": "2025-02-23T23:01:18.156Z"
   },
   {
    "duration": 8,
    "start_time": "2025-02-23T23:02:50.001Z"
   },
   {
    "duration": 119,
    "start_time": "2025-02-23T23:04:26.763Z"
   },
   {
    "duration": 84,
    "start_time": "2025-02-23T23:06:39.692Z"
   },
   {
    "duration": 245,
    "start_time": "2025-02-23T23:06:54.549Z"
   },
   {
    "duration": 12,
    "start_time": "2025-02-23T23:08:52.551Z"
   },
   {
    "duration": 631,
    "start_time": "2025-02-23T23:40:40.287Z"
   },
   {
    "duration": 39,
    "start_time": "2025-02-23T23:41:26.477Z"
   },
   {
    "duration": 6,
    "start_time": "2025-02-23T23:41:43.353Z"
   },
   {
    "duration": 35,
    "start_time": "2025-02-23T23:41:48.375Z"
   },
   {
    "duration": 9,
    "start_time": "2025-02-23T23:43:07.146Z"
   },
   {
    "duration": 4,
    "start_time": "2025-02-23T23:43:10.270Z"
   },
   {
    "duration": 20,
    "start_time": "2025-02-23T23:43:28.690Z"
   },
   {
    "duration": 11,
    "start_time": "2025-02-23T23:43:37.031Z"
   },
   {
    "duration": 89,
    "start_time": "2025-02-23T23:43:50.785Z"
   },
   {
    "duration": 17,
    "start_time": "2025-02-23T23:55:25.999Z"
   },
   {
    "duration": 24,
    "start_time": "2025-02-23T23:55:59.907Z"
   },
   {
    "duration": 25,
    "start_time": "2025-02-23T23:56:21.317Z"
   },
   {
    "duration": 59,
    "start_time": "2025-02-24T00:18:10.944Z"
   },
   {
    "duration": 58,
    "start_time": "2025-02-24T00:18:31.603Z"
   },
   {
    "duration": 59,
    "start_time": "2025-02-24T00:18:41.241Z"
   },
   {
    "duration": 38,
    "start_time": "2025-02-24T00:20:07.439Z"
   },
   {
    "duration": 40,
    "start_time": "2025-02-24T00:21:13.351Z"
   },
   {
    "duration": 89,
    "start_time": "2025-02-24T00:23:06.227Z"
   },
   {
    "duration": 21,
    "start_time": "2025-02-24T00:36:18.150Z"
   },
   {
    "duration": 4689,
    "start_time": "2025-02-24T00:38:10.284Z"
   },
   {
    "duration": 1213,
    "start_time": "2025-02-24T00:38:29.047Z"
   },
   {
    "duration": 13,
    "start_time": "2025-02-24T00:39:26.452Z"
   },
   {
    "duration": 16,
    "start_time": "2025-02-24T00:43:20.171Z"
   },
   {
    "duration": 17,
    "start_time": "2025-02-24T00:43:21.798Z"
   },
   {
    "duration": 12,
    "start_time": "2025-02-24T00:43:43.868Z"
   },
   {
    "duration": 11,
    "start_time": "2025-02-24T00:43:48.311Z"
   },
   {
    "duration": 7,
    "start_time": "2025-02-24T00:43:48.324Z"
   },
   {
    "duration": 1201,
    "start_time": "2025-02-24T00:43:48.333Z"
   },
   {
    "duration": 33,
    "start_time": "2025-02-24T00:43:49.537Z"
   },
   {
    "duration": 9,
    "start_time": "2025-02-24T00:43:49.572Z"
   },
   {
    "duration": 4,
    "start_time": "2025-02-24T00:43:49.583Z"
   },
   {
    "duration": 169,
    "start_time": "2025-02-24T00:43:49.588Z"
   },
   {
    "duration": 63,
    "start_time": "2025-02-24T00:43:49.759Z"
   },
   {
    "duration": 678,
    "start_time": "2025-02-24T00:43:49.824Z"
   },
   {
    "duration": 657,
    "start_time": "2025-02-24T00:45:37.957Z"
   },
   {
    "duration": 10,
    "start_time": "2025-02-24T01:32:31.505Z"
   },
   {
    "duration": 7,
    "start_time": "2025-02-24T01:32:31.587Z"
   },
   {
    "duration": 10,
    "start_time": "2025-02-24T01:32:52.915Z"
   },
   {
    "duration": 11,
    "start_time": "2025-02-24T01:32:52.970Z"
   },
   {
    "duration": 4,
    "start_time": "2025-02-24T01:32:52.983Z"
   },
   {
    "duration": 167,
    "start_time": "2025-02-24T01:32:52.991Z"
   },
   {
    "duration": 64,
    "start_time": "2025-02-24T01:32:53.160Z"
   },
   {
    "duration": 2587,
    "start_time": "2025-02-24T01:32:53.225Z"
   },
   {
    "duration": 6794,
    "start_time": "2025-02-24T01:33:14.549Z"
   },
   {
    "duration": 18712,
    "start_time": "2025-02-24T01:33:51.779Z"
   },
   {
    "duration": 2601,
    "start_time": "2025-02-24T01:36:00.622Z"
   },
   {
    "duration": 16,
    "start_time": "2025-02-24T02:10:38.608Z"
   },
   {
    "duration": 31,
    "start_time": "2025-02-24T02:11:06.504Z"
   },
   {
    "duration": 185,
    "start_time": "2025-02-24T02:11:15.143Z"
   },
   {
    "duration": 18,
    "start_time": "2025-02-24T02:11:23.866Z"
   },
   {
    "duration": 11,
    "start_time": "2025-02-24T02:11:43.161Z"
   },
   {
    "duration": 798,
    "start_time": "2025-02-25T00:12:15.167Z"
   },
   {
    "duration": 12,
    "start_time": "2025-02-25T00:12:15.967Z"
   },
   {
    "duration": 19109,
    "start_time": "2025-02-25T00:12:15.982Z"
   },
   {
    "duration": 0,
    "start_time": "2025-02-25T00:12:35.093Z"
   },
   {
    "duration": 0,
    "start_time": "2025-02-25T00:12:35.095Z"
   },
   {
    "duration": 0,
    "start_time": "2025-02-25T00:12:35.096Z"
   },
   {
    "duration": 0,
    "start_time": "2025-02-25T00:12:35.096Z"
   },
   {
    "duration": 18950,
    "start_time": "2025-02-25T00:15:18.107Z"
   },
   {
    "duration": 27,
    "start_time": "2025-02-25T00:15:37.060Z"
   },
   {
    "duration": 182,
    "start_time": "2025-02-25T00:15:37.089Z"
   },
   {
    "duration": 807,
    "start_time": "2025-02-25T00:38:25.021Z"
   },
   {
    "duration": 849,
    "start_time": "2025-02-25T01:01:09.922Z"
   },
   {
    "duration": 92,
    "start_time": "2025-02-25T01:08:59.383Z"
   },
   {
    "duration": 74,
    "start_time": "2025-02-25T01:13:20.768Z"
   },
   {
    "duration": 83,
    "start_time": "2025-02-25T01:27:52.582Z"
   },
   {
    "duration": 67,
    "start_time": "2025-02-25T01:54:37.786Z"
   },
   {
    "duration": 620,
    "start_time": "2025-02-25T01:54:42.797Z"
   },
   {
    "duration": 1593,
    "start_time": "2025-02-25T02:06:30.790Z"
   },
   {
    "duration": 598,
    "start_time": "2025-02-25T02:24:39.347Z"
   },
   {
    "duration": 14,
    "start_time": "2025-02-25T02:36:22.427Z"
   },
   {
    "duration": 15,
    "start_time": "2025-02-25T02:36:22.444Z"
   },
   {
    "duration": 897,
    "start_time": "2025-02-25T02:36:22.461Z"
   },
   {
    "duration": 32,
    "start_time": "2025-02-25T02:36:23.360Z"
   },
   {
    "duration": 171,
    "start_time": "2025-02-25T02:36:23.394Z"
   },
   {
    "duration": 71,
    "start_time": "2025-02-25T02:36:23.567Z"
   },
   {
    "duration": 8,
    "start_time": "2025-02-25T02:36:23.640Z"
   },
   {
    "duration": 21,
    "start_time": "2025-02-25T02:36:56.244Z"
   },
   {
    "duration": 18,
    "start_time": "2025-02-25T02:36:56.271Z"
   },
   {
    "duration": 886,
    "start_time": "2025-02-25T02:36:56.291Z"
   },
   {
    "duration": 18,
    "start_time": "2025-02-25T02:36:57.179Z"
   },
   {
    "duration": 148,
    "start_time": "2025-02-25T02:36:57.199Z"
   },
   {
    "duration": 93,
    "start_time": "2025-02-25T02:36:57.349Z"
   },
   {
    "duration": 566,
    "start_time": "2025-02-25T02:36:57.444Z"
   },
   {
    "duration": 831,
    "start_time": "2025-02-25T04:14:30.910Z"
   },
   {
    "duration": 12,
    "start_time": "2025-02-25T04:14:31.743Z"
   },
   {
    "duration": 844,
    "start_time": "2025-02-25T04:14:32.383Z"
   },
   {
    "duration": 10,
    "start_time": "2025-02-25T04:14:33.229Z"
   },
   {
    "duration": 77,
    "start_time": "2025-02-25T04:14:34.712Z"
   },
   {
    "duration": 57,
    "start_time": "2025-02-25T04:14:35.038Z"
   },
   {
    "duration": 550,
    "start_time": "2025-02-25T04:14:35.096Z"
   }
  ],
  "kernelspec": {
   "display_name": "Python 3",
   "language": "python",
   "name": "python3"
  },
  "language_info": {
   "codemirror_mode": {
    "name": "ipython",
    "version": 3
   },
   "file_extension": ".py",
   "mimetype": "text/x-python",
   "name": "python",
   "nbconvert_exporter": "python",
   "pygments_lexer": "ipython3",
   "version": "3.12.6"
  },
  "toc": {
   "base_numbering": 1,
   "nav_menu": {},
   "number_sections": true,
   "sideBar": true,
   "skip_h1_title": true,
   "title_cell": "Table of Contents",
   "title_sidebar": "Contents",
   "toc_cell": false,
   "toc_position": {},
   "toc_section_display": true,
   "toc_window_display": false
  }
 },
 "nbformat": 4,
 "nbformat_minor": 2
}
